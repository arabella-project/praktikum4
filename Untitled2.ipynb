{
  "nbformat": 4,
  "nbformat_minor": 0,
  "metadata": {
    "colab": {
      "provenance": []
    },
    "kernelspec": {
      "name": "python3",
      "display_name": "Python 3"
    },
    "language_info": {
      "name": "python"
    }
  },
  "cells": [
    {
      "cell_type": "code",
      "source": [
        "a = 33\n",
        "b = 100\n",
        "if (a>b):\n",
        "  print(\"nilai a lebih besar dari b\")"
      ],
      "metadata": {
        "id": "FGjflxoIFmAt"
      },
      "execution_count": 4,
      "outputs": []
    },
    {
      "cell_type": "code",
      "source": [
        "a = 33\n",
        "b = 100\n",
        "if (a>b):\n",
        "  print(\"nilai a lebih besar dari b\")\n",
        "else:\n",
        "    print(\"nilai a lebih kecil dari b\")\n"
      ],
      "metadata": {
        "colab": {
          "base_uri": "https://localhost:8080/"
        },
        "id": "4DjL-SQsF4c5",
        "outputId": "fa997a06-40f1-4767-ad83-7bb339c5d405"
      },
      "execution_count": 5,
      "outputs": [
        {
          "output_type": "stream",
          "name": "stdout",
          "text": [
            "nilai a lebih kecil dari b\n"
          ]
        }
      ]
    },
    {
      "cell_type": "code",
      "source": [
        "a = 100\n",
        "b = 50\n",
        "if (a<b):\n",
        "  print(\"nilai a lebih besar dari b\")\n",
        "else:\n",
        "    print(\"nilai a lebih kecil dari b\")\n",
        ""
      ],
      "metadata": {
        "colab": {
          "base_uri": "https://localhost:8080/"
        },
        "id": "VGv7VC7kGLYh",
        "outputId": "1e745a58-3d49-4ad3-bb69-d8a4341a901c"
      },
      "execution_count": 6,
      "outputs": [
        {
          "output_type": "stream",
          "name": "stdout",
          "text": [
            "nilai a lebih kecil dari b\n"
          ]
        }
      ]
    }
  ]
}